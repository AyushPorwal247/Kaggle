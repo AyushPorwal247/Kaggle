{
 "cells": [
  {
   "cell_type": "code",
   "execution_count": 1,
   "id": "f31d7f9a",
   "metadata": {},
   "outputs": [],
   "source": [
    "import pandas as pd\n",
    "import numpy as np"
   ]
  },
  {
   "cell_type": "code",
   "execution_count": 2,
   "id": "862e36a9",
   "metadata": {},
   "outputs": [],
   "source": [
    "train_df = pd.read_csv(\"train.csv\")\n",
    "test_df = pd.read_csv(\"test.csv\")"
   ]
  },
  {
   "cell_type": "code",
   "execution_count": 3,
   "id": "595fe1c9",
   "metadata": {},
   "outputs": [
    {
     "name": "stdout",
     "output_type": "stream",
     "text": [
      "<class 'pandas.core.frame.DataFrame'>\n",
      "RangeIndex: 891 entries, 0 to 890\n",
      "Data columns (total 12 columns):\n",
      " #   Column       Non-Null Count  Dtype  \n",
      "---  ------       --------------  -----  \n",
      " 0   PassengerId  891 non-null    int64  \n",
      " 1   Survived     891 non-null    int64  \n",
      " 2   Pclass       891 non-null    int64  \n",
      " 3   Name         891 non-null    object \n",
      " 4   Sex          891 non-null    object \n",
      " 5   Age          714 non-null    float64\n",
      " 6   SibSp        891 non-null    int64  \n",
      " 7   Parch        891 non-null    int64  \n",
      " 8   Ticket       891 non-null    object \n",
      " 9   Fare         891 non-null    float64\n",
      " 10  Cabin        204 non-null    object \n",
      " 11  Embarked     889 non-null    object \n",
      "dtypes: float64(2), int64(5), object(5)\n",
      "memory usage: 83.7+ KB\n"
     ]
    }
   ],
   "source": [
    "train_df.info()"
   ]
  },
  {
   "cell_type": "code",
   "execution_count": 4,
   "id": "a8953a5b",
   "metadata": {},
   "outputs": [
    {
     "name": "stdout",
     "output_type": "stream",
     "text": [
      "<class 'pandas.core.frame.DataFrame'>\n",
      "RangeIndex: 418 entries, 0 to 417\n",
      "Data columns (total 11 columns):\n",
      " #   Column       Non-Null Count  Dtype  \n",
      "---  ------       --------------  -----  \n",
      " 0   PassengerId  418 non-null    int64  \n",
      " 1   Pclass       418 non-null    int64  \n",
      " 2   Name         418 non-null    object \n",
      " 3   Sex          418 non-null    object \n",
      " 4   Age          332 non-null    float64\n",
      " 5   SibSp        418 non-null    int64  \n",
      " 6   Parch        418 non-null    int64  \n",
      " 7   Ticket       418 non-null    object \n",
      " 8   Fare         417 non-null    float64\n",
      " 9   Cabin        91 non-null     object \n",
      " 10  Embarked     418 non-null    object \n",
      "dtypes: float64(2), int64(4), object(5)\n",
      "memory usage: 36.0+ KB\n"
     ]
    }
   ],
   "source": [
    "test_df.info()"
   ]
  },
  {
   "cell_type": "code",
   "execution_count": 5,
   "id": "0814e0f5",
   "metadata": {},
   "outputs": [],
   "source": [
    "#Dropping Name and PassengerID feature as it as no relevance\n",
    "#Dropping Cabin feature as it has a lot of missing values\n",
    "#Also dropping tickets as it has a lot of unique values\n",
    "train_df.drop(['Name','Cabin','Ticket', 'PassengerId'], axis = 1, inplace = True)\n",
    "test_df.drop(['Name','Cabin', 'Ticket', 'PassengerId'], axis = 1, inplace = True)"
   ]
  },
  {
   "cell_type": "code",
   "execution_count": 6,
   "id": "7492298e",
   "metadata": {},
   "outputs": [],
   "source": [
    "train_df.dropna(subset = ['Embarked'], inplace = True)\n",
    "test_df.dropna(subset = ['Fare'], inplace = True)"
   ]
  },
  {
   "cell_type": "code",
   "execution_count": 7,
   "id": "32b32ba4",
   "metadata": {},
   "outputs": [],
   "source": [
    "from sklearn.impute import SimpleImputer\n",
    "imputer = SimpleImputer(strategy = 'median')\n",
    "train_df_num = train_df.drop(['Sex', 'Embarked', 'Survived'], axis = 1)\n",
    "test_df_num = test_df.drop(['Sex', 'Embarked'], axis = 1)\n",
    "imputer.fit(train_df_num)\n",
    "train_num = imputer.transform(train_df_num)\n",
    "test_num = imputer.transform(test_df_num)"
   ]
  },
  {
   "cell_type": "code",
   "execution_count": 8,
   "id": "e107afe5",
   "metadata": {},
   "outputs": [],
   "source": [
    "num_attributes = ['Pclass', 'Age', 'SibSp','Parch', 'Fare']\n",
    "cat_attributes = ['Sex', 'Embarked']"
   ]
  },
  {
   "cell_type": "code",
   "execution_count": 9,
   "id": "92081b4b",
   "metadata": {},
   "outputs": [
    {
     "name": "stdout",
     "output_type": "stream",
     "text": [
      "<class 'pandas.core.frame.DataFrame'>\n",
      "RangeIndex: 889 entries, 0 to 888\n",
      "Data columns (total 5 columns):\n",
      " #   Column  Non-Null Count  Dtype  \n",
      "---  ------  --------------  -----  \n",
      " 0   Pclass  889 non-null    float64\n",
      " 1   Age     889 non-null    float64\n",
      " 2   SibSp   889 non-null    float64\n",
      " 3   Parch   889 non-null    float64\n",
      " 4   Fare    889 non-null    float64\n",
      "dtypes: float64(5)\n",
      "memory usage: 34.9 KB\n"
     ]
    }
   ],
   "source": [
    "train_num = pd.DataFrame(train_num, columns = num_attributes)\n",
    "train_num.info()"
   ]
  },
  {
   "cell_type": "code",
   "execution_count": 10,
   "id": "5945b171",
   "metadata": {},
   "outputs": [
    {
     "name": "stdout",
     "output_type": "stream",
     "text": [
      "<class 'pandas.core.frame.DataFrame'>\n",
      "RangeIndex: 417 entries, 0 to 416\n",
      "Data columns (total 5 columns):\n",
      " #   Column  Non-Null Count  Dtype  \n",
      "---  ------  --------------  -----  \n",
      " 0   Pclass  417 non-null    float64\n",
      " 1   Age     417 non-null    float64\n",
      " 2   SibSp   417 non-null    float64\n",
      " 3   Parch   417 non-null    float64\n",
      " 4   Fare    417 non-null    float64\n",
      "dtypes: float64(5)\n",
      "memory usage: 16.4 KB\n"
     ]
    }
   ],
   "source": [
    "test_num = pd.DataFrame(test_num, columns = num_attributes)\n",
    "test_num.info()"
   ]
  },
  {
   "cell_type": "code",
   "execution_count": 11,
   "id": "3b4cd7f8",
   "metadata": {},
   "outputs": [],
   "source": [
    "from sklearn.preprocessing import OneHotEncoder\n",
    "OHE = OneHotEncoder(sparse_output = False)\n",
    "train_df_cat = train_df[cat_attributes]\n",
    "test_df_cat = test_df[cat_attributes]\n",
    "train_cat = OHE.fit_transform(train_df_cat)\n",
    "test_cat = OHE.transform(test_df_cat)"
   ]
  },
  {
   "cell_type": "code",
   "execution_count": 15,
   "id": "27d7fc5b",
   "metadata": {},
   "outputs": [],
   "source": [
    "train_cat = pd.DataFrame(train_cat, columns = ['S1', 'S2', 'E1', 'E2', 'E3'])\n",
    "test_cat = pd.DataFrame(test_cat, columns = ['S1', 'S2', 'E1', 'E2', 'E3'])"
   ]
  },
  {
   "cell_type": "code",
   "execution_count": 17,
   "id": "04c189a6",
   "metadata": {},
   "outputs": [
    {
     "name": "stdout",
     "output_type": "stream",
     "text": [
      "<class 'pandas.core.frame.DataFrame'>\n",
      "RangeIndex: 417 entries, 0 to 416\n",
      "Data columns (total 5 columns):\n",
      " #   Column  Non-Null Count  Dtype  \n",
      "---  ------  --------------  -----  \n",
      " 0   S1      417 non-null    float64\n",
      " 1   S2      417 non-null    float64\n",
      " 2   E1      417 non-null    float64\n",
      " 3   E2      417 non-null    float64\n",
      " 4   E3      417 non-null    float64\n",
      "dtypes: float64(5)\n",
      "memory usage: 16.4 KB\n"
     ]
    }
   ],
   "source": [
    "test_cat.info()"
   ]
  },
  {
   "cell_type": "code",
   "execution_count": 19,
   "id": "3df54e98",
   "metadata": {},
   "outputs": [
    {
     "name": "stdout",
     "output_type": "stream",
     "text": [
      "<class 'pandas.core.frame.DataFrame'>\n",
      "Int64Index: 1778 entries, 0 to 888\n",
      "Data columns (total 10 columns):\n",
      " #   Column  Non-Null Count  Dtype  \n",
      "---  ------  --------------  -----  \n",
      " 0   Pclass  889 non-null    float64\n",
      " 1   Age     889 non-null    float64\n",
      " 2   SibSp   889 non-null    float64\n",
      " 3   Parch   889 non-null    float64\n",
      " 4   Fare    889 non-null    float64\n",
      " 5   S1      889 non-null    float64\n",
      " 6   S2      889 non-null    float64\n",
      " 7   E1      889 non-null    float64\n",
      " 8   E2      889 non-null    float64\n",
      " 9   E3      889 non-null    float64\n",
      "dtypes: float64(10)\n",
      "memory usage: 152.8 KB\n"
     ]
    }
   ],
   "source": [
    "train_final = pd.concat([train_num, train_cat])\n",
    "train_final.info()"
   ]
  },
  {
   "cell_type": "code",
   "execution_count": 21,
   "id": "f5a6a73e",
   "metadata": {},
   "outputs": [
    {
     "name": "stdout",
     "output_type": "stream",
     "text": [
      "<class 'pandas.core.frame.DataFrame'>\n",
      "Int64Index: 834 entries, 0 to 416\n",
      "Data columns (total 10 columns):\n",
      " #   Column  Non-Null Count  Dtype  \n",
      "---  ------  --------------  -----  \n",
      " 0   Pclass  417 non-null    float64\n",
      " 1   Age     417 non-null    float64\n",
      " 2   SibSp   417 non-null    float64\n",
      " 3   Parch   417 non-null    float64\n",
      " 4   Fare    417 non-null    float64\n",
      " 5   S1      417 non-null    float64\n",
      " 6   S2      417 non-null    float64\n",
      " 7   E1      417 non-null    float64\n",
      " 8   E2      417 non-null    float64\n",
      " 9   E3      417 non-null    float64\n",
      "dtypes: float64(10)\n",
      "memory usage: 71.7 KB\n"
     ]
    }
   ],
   "source": [
    "test_final = pd.concat([test_num, test_cat])\n",
    "test_final.info()"
   ]
  },
  {
   "cell_type": "code",
   "execution_count": 22,
   "id": "aa312203",
   "metadata": {},
   "outputs": [
    {
     "name": "stdout",
     "output_type": "stream",
     "text": [
      "<class 'pandas.core.series.Series'>\n",
      "Int64Index: 889 entries, 0 to 890\n",
      "Series name: Survived\n",
      "Non-Null Count  Dtype\n",
      "--------------  -----\n",
      "889 non-null    int64\n",
      "dtypes: int64(1)\n",
      "memory usage: 13.9 KB\n"
     ]
    }
   ],
   "source": [
    "train_output = train_df['Survived']\n",
    "train_output.info()"
   ]
  },
  {
   "cell_type": "code",
   "execution_count": null,
   "id": "e1dd1c03",
   "metadata": {},
   "outputs": [],
   "source": [
    "from sklearn.tree "
   ]
  }
 ],
 "metadata": {
  "kernelspec": {
   "display_name": "Python 3 (ipykernel)",
   "language": "python",
   "name": "python3"
  },
  "language_info": {
   "codemirror_mode": {
    "name": "ipython",
    "version": 3
   },
   "file_extension": ".py",
   "mimetype": "text/x-python",
   "name": "python",
   "nbconvert_exporter": "python",
   "pygments_lexer": "ipython3",
   "version": "3.11.1"
  }
 },
 "nbformat": 4,
 "nbformat_minor": 5
}
